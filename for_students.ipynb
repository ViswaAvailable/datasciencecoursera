{
  "nbformat": 4,
  "nbformat_minor": 0,
  "metadata": {
    "kernelspec": {
      "display_name": "Python 3",
      "language": "python",
      "name": "python3"
    },
    "language_info": {
      "codemirror_mode": {
        "name": "ipython",
        "version": 3
      },
      "file_extension": ".py",
      "mimetype": "text/x-python",
      "name": "python",
      "nbconvert_exporter": "python",
      "pygments_lexer": "ipython3",
      "version": "3.7.3"
    },
    "colab": {
      "name": "for_students.ipynb",
      "provenance": [],
      "include_colab_link": true
    }
  },
  "cells": [
    {
      "cell_type": "markdown",
      "metadata": {
        "id": "view-in-github",
        "colab_type": "text"
      },
      "source": [
        "<a href=\"https://colab.research.google.com/github/ViswaAvailable/datasciencecoursera/blob/master/for_students.ipynb\" target=\"_parent\"><img src=\"https://colab.research.google.com/assets/colab-badge.svg\" alt=\"Open In Colab\"/></a>"
      ]
    },
    {
      "cell_type": "code",
      "metadata": {
        "id": "5kaaoYNFhfdj",
        "colab_type": "code",
        "colab": {
          "base_uri": "https://localhost:8080/",
          "height": 34
        },
        "outputId": "3265f2a1-b533-45d1-bae1-69872a1bed6e"
      },
      "source": [
        "import pandas as pd\n",
        "import re\n",
        "from datetime import datetime as dt\n",
        "import time\n",
        "\n",
        "\n",
        "\n",
        "df  = pd.read_csv('meetingAttendance_16_07_2020.tsv', delimiter='\\t')\n",
        "\n",
        "print(df.columns)\n"
      ],
      "execution_count": 29,
      "outputs": [
        {
          "output_type": "stream",
          "text": [
            "Index(['Full Name', 'User Action', 'Timestamp'], dtype='object')\n"
          ],
          "name": "stdout"
        }
      ]
    },
    {
      "cell_type": "code",
      "metadata": {
        "id": "W6TxbLDdh9MF",
        "colab_type": "code",
        "colab": {
          "base_uri": "https://localhost:8080/",
          "height": 402
        },
        "outputId": "0a75f73e-a4d4-489e-a25f-8d69a5a777f0"
      },
      "source": [
        "name=df['Full Name'].str.split('-').tolist()\n",
        "\n",
        "df1 = pd.DataFrame(name, columns=['names','Roll No','Index'])\n",
        "df1.drop(['Index'], axis=1,inplace=True)\n",
        "df1.dropna()\n"
      ],
      "execution_count": 72,
      "outputs": [
        {
          "output_type": "execute_result",
          "data": {
            "text/html": [
              "<div>\n",
              "<style scoped>\n",
              "    .dataframe tbody tr th:only-of-type {\n",
              "        vertical-align: middle;\n",
              "    }\n",
              "\n",
              "    .dataframe tbody tr th {\n",
              "        vertical-align: top;\n",
              "    }\n",
              "\n",
              "    .dataframe thead th {\n",
              "        text-align: right;\n",
              "    }\n",
              "</style>\n",
              "<table border=\"1\" class=\"dataframe\">\n",
              "  <thead>\n",
              "    <tr style=\"text-align: right;\">\n",
              "      <th></th>\n",
              "      <th>names</th>\n",
              "      <th>Roll No</th>\n",
              "    </tr>\n",
              "  </thead>\n",
              "  <tbody>\n",
              "    <tr>\n",
              "      <th>1</th>\n",
              "      <td>Achyuthuni Venkata Sidhartha</td>\n",
              "      <td>[CB.EN.U4ECE17302]</td>\n",
              "    </tr>\n",
              "    <tr>\n",
              "      <th>2</th>\n",
              "      <td>Pochana Srikar Reddy</td>\n",
              "      <td>[CB.EN.U4ECE17340]</td>\n",
              "    </tr>\n",
              "    <tr>\n",
              "      <th>3</th>\n",
              "      <td>Gowtham M</td>\n",
              "      <td>[CB.EN.U4ECE17121]</td>\n",
              "    </tr>\n",
              "    <tr>\n",
              "      <th>4</th>\n",
              "      <td>Bhamidipati V S Ananda Srivatsa</td>\n",
              "      <td>[CB.EN.U4ECE17531]</td>\n",
              "    </tr>\n",
              "    <tr>\n",
              "      <th>5</th>\n",
              "      <td>Prasanthi Vanga</td>\n",
              "      <td>[CB.EN.U4ECE17502]</td>\n",
              "    </tr>\n",
              "    <tr>\n",
              "      <th>...</th>\n",
              "      <td>...</td>\n",
              "      <td>...</td>\n",
              "    </tr>\n",
              "    <tr>\n",
              "      <th>93</th>\n",
              "      <td>Aditya S</td>\n",
              "      <td>[CB.EN.U4ECE17303]</td>\n",
              "    </tr>\n",
              "    <tr>\n",
              "      <th>94</th>\n",
              "      <td>Siragam Ram Sai Pavan</td>\n",
              "      <td>[CB.EN.U4ECE17158]</td>\n",
              "    </tr>\n",
              "    <tr>\n",
              "      <th>95</th>\n",
              "      <td>Siragam Ram Sai Pavan</td>\n",
              "      <td>[CB.EN.U4ECE17158]</td>\n",
              "    </tr>\n",
              "    <tr>\n",
              "      <th>96</th>\n",
              "      <td>Sakthivel  V</td>\n",
              "      <td>[CB.EN.U4ECE17156]</td>\n",
              "    </tr>\n",
              "    <tr>\n",
              "      <th>97</th>\n",
              "      <td>Chithra R</td>\n",
              "      <td>[CB.EN.U4ECE17118]</td>\n",
              "    </tr>\n",
              "  </tbody>\n",
              "</table>\n",
              "<p>95 rows × 2 columns</p>\n",
              "</div>"
            ],
            "text/plain": [
              "                               names              Roll No\n",
              "1      Achyuthuni Venkata Sidhartha    [CB.EN.U4ECE17302]\n",
              "2              Pochana Srikar Reddy    [CB.EN.U4ECE17340]\n",
              "3                         Gowtham M    [CB.EN.U4ECE17121]\n",
              "4   Bhamidipati V S Ananda Srivatsa    [CB.EN.U4ECE17531]\n",
              "5                   Prasanthi Vanga    [CB.EN.U4ECE17502]\n",
              "..                               ...                  ...\n",
              "93                         Aditya S    [CB.EN.U4ECE17303]\n",
              "94            Siragam Ram Sai Pavan    [CB.EN.U4ECE17158]\n",
              "95            Siragam Ram Sai Pavan    [CB.EN.U4ECE17158]\n",
              "96                     Sakthivel  V    [CB.EN.U4ECE17156]\n",
              "97                        Chithra R    [CB.EN.U4ECE17118]\n",
              "\n",
              "[95 rows x 2 columns]"
            ]
          },
          "metadata": {
            "tags": []
          },
          "execution_count": 72
        }
      ]
    },
    {
      "cell_type": "code",
      "metadata": {
        "id": "XO_LCKNN1GEN",
        "colab_type": "code",
        "colab": {}
      },
      "source": [
        "from google.colab import drive\n",
        "drive.mount('/content/drive')"
      ],
      "execution_count": null,
      "outputs": []
    },
    {
      "cell_type": "code",
      "metadata": {
        "id": "AVX7pv-nhfdw",
        "colab_type": "code",
        "colab": {}
      },
      "source": [
        "\n",
        "attendance = df_1['Full Name'].unique()\n",
        "#print(attendance)\n",
        "#print(df_1.columns)"
      ],
      "execution_count": 19,
      "outputs": []
    },
    {
      "cell_type": "code",
      "metadata": {
        "id": "tZBTfTm6hfd5",
        "colab_type": "code",
        "colab": {}
      },
      "source": [
        "def rounder(t):\n",
        "    if t.minute >= 30:\n",
        "        return t.replace(second=0, microsecond=0, minute=0, hour=t.hour+1)\n",
        "    else:\n",
        "        return t.replace(second=0, microsecond=0, minute=0)"
      ],
      "execution_count": 5,
      "outputs": []
    },
    {
      "cell_type": "code",
      "metadata": {
        "id": "KoXZwQushfeB",
        "colab_type": "code",
        "colab": {
          "base_uri": "https://localhost:8080/",
          "height": 34
        },
        "outputId": "97aa4bff-6f9e-4e4d-cfa8-97ebad78ed4a"
      },
      "source": [
        "time = df.iloc[0]['Timestamp']\n",
        "date = dt.strptime(time, \"%d/%m/%Y, %H:%M:%S\")\n",
        "date = rounder(date)\n",
        "class_date  = dt.strftime(date,'%b %d, %Y')\n",
        "class_time = dt.strftime(date, \"%H:%M\")\n",
        "print('date:', class_date, 'time: ', class_time)"
      ],
      "execution_count": 6,
      "outputs": [
        {
          "output_type": "stream",
          "text": [
            "date: Jul 16, 2020 time:  17:00\n"
          ],
          "name": "stdout"
        }
      ]
    }
  ]
}