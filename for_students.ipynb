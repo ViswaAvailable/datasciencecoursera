{
  "nbformat": 4,
  "nbformat_minor": 0,
  "metadata": {
    "kernelspec": {
      "display_name": "Python 3",
      "language": "python",
      "name": "python3"
    },
    "language_info": {
      "codemirror_mode": {
        "name": "ipython",
        "version": 3
      },
      "file_extension": ".py",
      "mimetype": "text/x-python",
      "name": "python",
      "nbconvert_exporter": "python",
      "pygments_lexer": "ipython3",
      "version": "3.7.3"
    },
    "colab": {
      "name": "for_students.ipynb",
      "provenance": [],
      "include_colab_link": true
    }
  },
  "cells": [
    {
      "cell_type": "markdown",
      "metadata": {
        "id": "view-in-github",
        "colab_type": "text"
      },
      "source": [
        "<a href=\"https://colab.research.google.com/github/ViswaAvailable/datasciencecoursera/blob/master/for_students.ipynb\" target=\"_parent\"><img src=\"https://colab.research.google.com/assets/colab-badge.svg\" alt=\"Open In Colab\"/></a>"
      ]
    },
    {
      "cell_type": "code",
      "metadata": {
        "id": "5kaaoYNFhfdj",
        "colab_type": "code",
        "colab": {
          "base_uri": "https://localhost:8080/",
          "height": 588
        },
        "outputId": "63c59cd3-2eee-4efc-aa86-c8f3eb85ca17"
      },
      "source": [
        "import pandas as pd\n",
        "import re\n",
        "from datetime import datetime as dt\n",
        "import time\n",
        "\n",
        "\n",
        "\n",
        "df  = pd.read_csv('meetingAttendance_16_07_2020.tsv', delimiter='\\t')\n",
        "\n",
        "#df.head()\n",
        "print(df.columns)\n",
        "#print(df)\n",
        "df = df.iloc[0:30]\n",
        "print(df)\n",
        "#print(df[df['User Action']=='Joined'])"
      ],
      "execution_count": 7,
      "outputs": [
        {
          "output_type": "stream",
          "text": [
            "Index(['Full Name', 'User Action', 'Timestamp'], dtype='object')\n",
            "                                            Full Name  ...             Timestamp\n",
            "0                          Dr. Santhosh Kumar C (ECE)  ...  16/07/2020, 16:45:28\n",
            "1   Achyuthuni Venkata Sidhartha - [CB.EN.U4ECE17302]  ...  16/07/2020, 16:45:33\n",
            "2           Pochana Srikar Reddy - [CB.EN.U4ECE17340]  ...  16/07/2020, 16:45:33\n",
            "3                      Gowtham M - [CB.EN.U4ECE17121]  ...  16/07/2020, 16:46:40\n",
            "4   Bhamidipati V S Ananda Srivatsa - [CB.EN.U4ECE...  ...  16/07/2020, 16:47:08\n",
            "5                Prasanthi Vanga - [CB.EN.U4ECE17502]  ...  16/07/2020, 16:53:24\n",
            "6                      T Avinash - [CB.EN.U4ECE17114]  ...  16/07/2020, 16:53:35\n",
            "7                      T Avinash - [CB.EN.U4ECE17114]  ...  16/07/2020, 16:54:37\n",
            "8                      T Avinash - [CB.EN.U4ECE17114]  ...  16/07/2020, 16:54:50\n",
            "9                    Pranesh P E - [CB.EN.U4ECE17149]  ...  16/07/2020, 16:53:51\n",
            "10                   M Venkatesh - [CB.EN.U4ECE17164]  ...  16/07/2020, 16:54:26\n",
            "11                     Aravind S - [CB.EN.U4ECE17109]  ...  16/07/2020, 16:54:39\n",
            "12         Prahalad Srinivas C G - [CB.EN.U4ECE17239]  ...  16/07/2020, 16:54:48\n",
            "13                   Meenakshi K - [CB.EN.U4ECE17038]  ...  16/07/2020, 16:54:54\n",
            "14          Varshini Balamurugan - [CB.EN.U4ECE17061]  ...  16/07/2020, 16:55:00\n",
            "15                    Niranjan C - [CB.EN.U4ECE17043]  ...  16/07/2020, 16:55:06\n",
            "16                    Niranjan C - [CB.EN.U4ECE17043]  ...  16/07/2020, 17:05:41\n",
            "17                    Niranjan C - [CB.EN.U4ECE17043]  ...  16/07/2020, 17:05:53\n",
            "18              Madisetty Eshwar - [CB.EN.U4ECE17330]  ...  16/07/2020, 16:55:11\n",
            "19              Madisetty Eshwar - [CB.EN.U4ECE17330]  ...  16/07/2020, 17:17:57\n",
            "20              Madisetty Eshwar - [CB.EN.U4ECE17330]  ...  16/07/2020, 17:19:12\n",
            "21              Madisetty Eshwar - [CB.EN.U4ECE17330]  ...  16/07/2020, 17:20:47\n",
            "22              Madisetty Eshwar - [CB.EN.U4ECE17330]  ...  16/07/2020, 17:21:10\n",
            "23                   Rahul Ganji - [CB.EN.U4ECE17051]  ...  16/07/2020, 16:55:23\n",
            "24                  Varsha Anand - [CB.EN.U4ECE17362]  ...  16/07/2020, 16:55:27\n",
            "25           Sai Harsha Nadendla - [CB.EN.U4ECE17155]  ...  16/07/2020, 16:55:34\n",
            "26                 S Ashok Aayar - [CB.EN.U4ECE17306]  ...  16/07/2020, 16:55:51\n",
            "27                      Sundar G - [CB.EN.U4ECE17355]  ...  16/07/2020, 16:55:53\n",
            "28                Vishwabharan R - [CB.EN.U4ECE17065]  ...  16/07/2020, 16:56:09\n",
            "29                Vishwabharan R - [CB.EN.U4ECE17065]  ...  16/07/2020, 17:00:43\n",
            "\n",
            "[30 rows x 3 columns]\n"
          ],
          "name": "stdout"
        }
      ]
    },
    {
      "cell_type": "code",
      "metadata": {
        "id": "AVX7pv-nhfdw",
        "colab_type": "code",
        "colab": {},
        "outputId": "904ab2ea-8d2d-4345-da95-d7d711473b8f"
      },
      "source": [
        "df_1 = df\n",
        "attendance = df_1['Full Name'].unique()\n",
        "print(attendance)\n",
        "print(df_1.columns)"
      ],
      "execution_count": null,
      "outputs": [
        {
          "output_type": "stream",
          "text": [
            "['Dr. Santhosh Kumar C (ECE)'\n",
            " 'Achyuthuni Venkata Sidhartha - [CB.EN.U4ECE17302]'\n",
            " 'Pochana Srikar Reddy - [CB.EN.U4ECE17340]'\n",
            " 'Gowtham M - [CB.EN.U4ECE17121]'\n",
            " 'Bhamidipati V S Ananda Srivatsa - [CB.EN.U4ECE17531]'\n",
            " 'Prasanthi Vanga - [CB.EN.U4ECE17502]' 'T Avinash - [CB.EN.U4ECE17114]'\n",
            " 'Pranesh P E - [CB.EN.U4ECE17149]' 'M Venkatesh - [CB.EN.U4ECE17164]'\n",
            " 'Aravind S - [CB.EN.U4ECE17109]'\n",
            " 'Prahalad Srinivas C G - [CB.EN.U4ECE17239]'\n",
            " 'Meenakshi K - [CB.EN.U4ECE17038]'\n",
            " 'Varshini Balamurugan - [CB.EN.U4ECE17061]'\n",
            " 'Niranjan C - [CB.EN.U4ECE17043]' 'Madisetty Eshwar - [CB.EN.U4ECE17330]'\n",
            " 'Rahul Ganji - [CB.EN.U4ECE17051]' 'Varsha Anand - [CB.EN.U4ECE17362]'\n",
            " 'Sai Harsha Nadendla - [CB.EN.U4ECE17155]'\n",
            " 'S Ashok Aayar - [CB.EN.U4ECE17306]' 'Sundar G - [CB.EN.U4ECE17355]'\n",
            " 'Vishwabharan R - [CB.EN.U4ECE17065]' 'Srinidhi R - [CB.EN.U4ECE17256]'\n",
            " 'Barathi Kanna S - [CB.EN.U4ECE17007]'\n",
            " 'Miriyala Karthik - [CB.EN.U4ECE17039]'\n",
            " 'Yogesh Chandra Singh Samant - [CB.EN.U4ECE17266]'\n",
            " 'Vigneshwar S - [CB.EN.U4ECE17263]'\n",
            " 'Hari Prasad  P. - [CB.EN.U4ECE17122]'\n",
            " 'Divyaprakash R - [CB.EN.U4ECE17316]'\n",
            " 'Vedha T Selvam - [CB.EN.U4ECE17363]'\n",
            " 'Aravindsiddaarth V M - [CB.EN.U4ECE17110]'\n",
            " 'P C Manojkumar - [CB.EN.U4ECE17036]' 'Gokul S - [CB.EN.U4ECE17014]'\n",
            " 'Pooja Muralidharan Prasanna [CB.EN.P2BME18012]'\n",
            " 'Sesha S Sankar - [CB.EN.U4ECE17251]'\n",
            " 'Sudheendhar MU - [CB.EN.U4ECE17354]'\n",
            " 'Thata Namratha - [CB.EN.U4ECE17357]' 'R Manisha - [CB.EN.U4ECE17141]'\n",
            " 'Byragi Saketh Sai Charan - [CB.EN.U4ECE17008]'\n",
            " 'Atmuri Yasvantha Sai - [CB.EN.U4ECE17113]'\n",
            " 'Ragumadhavan  L - [CB.EN.U4ECE17152]'\n",
            " 'Balachander S - [CB.EN.U4ECE17213]' 'Thirumalai S - [CB.EN.U4ECE17163]'\n",
            " 'Mrudula G.B - [CB.EN.D*ECE19001-FT]'\n",
            " 'Agraharam Venkata Sairam Bharath Chandra - [CB.EN.U4ECE17001]'\n",
            " 'Sreekumar K.T (CEN)' 'Aparna Ajith R - [CB.EN.U4ECE17305]'\n",
            " 'Avinash Subramaniam M - [CB.EN.U4ECE17211]'\n",
            " 'Haritha H - [CB.EN.D*ECE17002]'\n",
            " 'Desu Sai Manikanta - [CB.EN.U4ECE17313]'\n",
            " 'J S Ashwin Kumar - [CB.EN.U4ECE17307]' 'Praveen M - [CB.EN.U4ECE17240]'\n",
            " 'Pranav Saibhushan Ravuri - [CB.EN.U4ECE17148]'\n",
            " 'Samiullah S - [CB.EN.U4ECE17157]' 'Rajath K - [CB.EN.U4ECE17242]'\n",
            " 'Aditya S - [CB.EN.U4ECE17303]'\n",
            " 'Siragam Ram Sai Pavan - [CB.EN.U4ECE17158]'\n",
            " 'Sakthivel  V - [CB.EN.U4ECE17156]' 'Chithra R - [CB.EN.U4ECE17118]']\n",
            "Index(['Full Name', 'User Action', 'Timestamp'], dtype='object')\n"
          ],
          "name": "stdout"
        }
      ]
    },
    {
      "cell_type": "code",
      "metadata": {
        "id": "tZBTfTm6hfd5",
        "colab_type": "code",
        "colab": {}
      },
      "source": [
        "def rounder(t):\n",
        "    if t.minute >= 30:\n",
        "        return t.replace(second=0, microsecond=0, minute=0, hour=t.hour+1)\n",
        "    else:\n",
        "        return t.replace(second=0, microsecond=0, minute=0)"
      ],
      "execution_count": 5,
      "outputs": []
    },
    {
      "cell_type": "code",
      "metadata": {
        "id": "KoXZwQushfeB",
        "colab_type": "code",
        "colab": {
          "base_uri": "https://localhost:8080/",
          "height": 34
        },
        "outputId": "97aa4bff-6f9e-4e4d-cfa8-97ebad78ed4a"
      },
      "source": [
        "time = df.iloc[0]['Timestamp']\n",
        "date = dt.strptime(time, \"%d/%m/%Y, %H:%M:%S\")\n",
        "date = rounder(date)\n",
        "class_date  = dt.strftime(date,'%b %d, %Y')\n",
        "class_time = dt.strftime(date, \"%H:%M\")\n",
        "print('date:', class_date, 'time: ', class_time)"
      ],
      "execution_count": 6,
      "outputs": [
        {
          "output_type": "stream",
          "text": [
            "date: Jul 16, 2020 time:  17:00\n"
          ],
          "name": "stdout"
        }
      ]
    },
    {
      "cell_type": "code",
      "metadata": {
        "id": "W6TxbLDdh9MF",
        "colab_type": "code",
        "colab": {}
      },
      "source": [
        ""
      ],
      "execution_count": null,
      "outputs": []
    }
  ]
}